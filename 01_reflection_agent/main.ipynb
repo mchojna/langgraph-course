{
 "cells": [
  {
   "cell_type": "code",
   "execution_count": 1,
   "id": "5642c508",
   "metadata": {},
   "outputs": [],
   "source": [
    "from typing import List, Sequence\n",
    "from IPython.display import Image, display\n",
    "\n",
    "from dotenv import load_dotenv\n",
    "\n",
    "from langchain_core.messages import BaseMessage, HumanMessage\n",
    "from langgraph.graph import END, MessageGraph\n",
    "\n",
    "from chains import generation_chain, reflection_chain"
   ]
  },
  {
   "cell_type": "code",
   "execution_count": 2,
   "id": "74c2db0f",
   "metadata": {},
   "outputs": [
    {
     "data": {
      "text/plain": [
       "True"
      ]
     },
     "execution_count": 2,
     "metadata": {},
     "output_type": "execute_result"
    }
   ],
   "source": [
    "load_dotenv()"
   ]
  },
  {
   "cell_type": "code",
   "execution_count": 11,
   "id": "241f930d",
   "metadata": {},
   "outputs": [],
   "source": [
    "REFLECT = \"reflect\"\n",
    "GENERATE = \"generate\""
   ]
  },
  {
   "cell_type": "code",
   "execution_count": 12,
   "id": "982dafca",
   "metadata": {},
   "outputs": [],
   "source": [
    "def generation_node(state: Sequence[BaseMessage]):\n",
    "    return generation_chain.invoke({\"messages\": state})"
   ]
  },
  {
   "cell_type": "code",
   "execution_count": 13,
   "id": "e55ce14f",
   "metadata": {},
   "outputs": [],
   "source": [
    "def reflection_node(messages: Sequence[BaseMessage]) -> List[BaseMessage]:\n",
    "    res = reflection_chain.invoke({\"messages\": messages})\n",
    "    return [HumanMessage(content=res.content)]"
   ]
  },
  {
   "cell_type": "code",
   "execution_count": 61,
   "id": "fb3f9135",
   "metadata": {},
   "outputs": [
    {
     "data": {
      "text/plain": [
       "<langgraph.graph.message.MessageGraph at 0x117f34b50>"
      ]
     },
     "execution_count": 61,
     "metadata": {},
     "output_type": "execute_result"
    }
   ],
   "source": [
    "builder = MessageGraph()\n",
    "builder.add_node(GENERATE, generation_node)\n",
    "builder.add_node(REFLECT, reflection_node)\n",
    "builder.set_entry_point(GENERATE)"
   ]
  },
  {
   "cell_type": "code",
   "execution_count": 62,
   "id": "0e3733d2",
   "metadata": {},
   "outputs": [],
   "source": [
    "def should_continue(state: List[BaseMessage]):\n",
    "    if len(state) > 6:\n",
    "        return \"__end__\"\n",
    "    else:\n",
    "        return \"__reflect__\""
   ]
  },
  {
   "cell_type": "code",
   "execution_count": 63,
   "id": "8213cd89",
   "metadata": {},
   "outputs": [
    {
     "data": {
      "image/png": "[encoded data removed]",
      "text/plain": [
       "<IPython.core.display.Image object>"
      ]
     },
     "metadata": {},
     "output_type": "display_data"
    }
   ],
   "source": [
    "builder.add_conditional_edges(GENERATE, should_continue, {\n",
    "    \"__end__\": END,\n",
    "    \"__reflect__\": REFLECT,\n",
    "})\n",
    "builder.add_edge(REFLECT, GENERATE)\n",
    "\n",
    "graph = builder.compile()\n",
    "\n",
    "display(Image(graph.get_graph().draw_mermaid_png()))"
   ]
  },
  {
   "cell_type": "code",
   "execution_count": 64,
   "id": "8765817c",
   "metadata": {},
   "outputs": [
    {
     "name": "stdout",
     "output_type": "stream",
     "text": [
      "[HumanMessage(content='\\n            Make this tweet better:\\n             literally cannot wait til I hit 30, get a lil house, adopt 20 cats, & finally fulfill my lifelong dream of becoming a crazy cat lady.\\n        ', additional_kwargs={}, response_metadata={}, id='7d0c8035-2dae-4dfa-9f85-e0115e75c111'), AIMessage(content='🌟 Counting down the days until I hit 30! 🎉 Dreaming of a cozy little house filled with love, where I can adopt 20 adorable cats and finally embrace my destiny as the ultimate crazy cat lady. 🐾❤️ #CatLadyGoals #LifeDreams', additional_kwargs={'refusal': None}, response_metadata={'token_usage': {'completion_tokens': 57, 'prompt_tokens': 95, 'total_tokens': 152, 'completion_tokens_details': {'accepted_prediction_tokens': 0, 'audio_tokens': 0, 'reasoning_tokens': 0, 'rejected_prediction_tokens': 0}, 'prompt_tokens_details': {'audio_tokens': 0, 'cached_tokens': 0}}, 'model_name': 'gpt-4o-mini-2024-07-18', 'system_fingerprint': 'fp_dbaca60df0', 'id': 'chatcmpl-BYa0GlhtO5Vyf4i78DgXQu1Yi5STD', 'service_tier': 'default', 'finish_reason': 'stop', 'logprobs': None}, id='run--81d52782-8883-4c79-aece-6027c3d69ab9-0', usage_metadata={'input_tokens': 95, 'output_tokens': 57, 'total_tokens': 152, 'input_token_details': {'audio': 0, 'cache_read': 0}, 'output_token_details': {'audio': 0, 'reasoning': 0}}), HumanMessage(content=\"### Critique:\\n\\n1. **Length**: Your original tweet is a bit lengthy and could benefit from being more concise. Shorter tweets are often more impactful and easier to read.\\n  \\n2. **Virality**: While your idea is charming and relatable (who doesn't love cats?), consider adding elements that could increase engagement, like a question or a relatable meme. Inviting interaction often boosts retweet potential.\\n\\n3. **Style**: You have a fun and light-hearted tone, which is great! Adding emojis helps convey emotion and makes the tweet visually appealing. However, try to avoid using “literally” unless necessary, as it can feel overused.\\n\\n4. **Structure**: Keeping your thoughts organized can enhance clarity. Starting with your age, moving to dreams, and ending with a flourish (like a cat reference) creates a nice flow.\\n\\n### Recommendations:\\n\\n1. **Conciseness**: Aim for a tweet around 240 characters or less. This creates a punchy effect and engages users who skim through their feeds.\\n\\n2. **Engagement Appeal**: Consider adding a question or an interactive element, such as, “Who else is ready to join the crazy cat lady club with me?”\\n\\n3. **Emoji Use**: Utilize a few more relevant emojis to enhance engagement and brighten up the tone, but don’t go overboard.\\n\\n4. **Hashtags**: Including trending or relevant hashtags can help your tweet reach a wider audience. Consider tags like #CatLife, #DreamHome, or #FutureGoals.\\n\\n### Revised Tweet Example:\\n\\n“🎉 Can’t believe I’ll be 30 soon! Ready to settle into my cozy house, adopt 20 furry friends, and become the crazy cat lady I've always dreamed of! 🐱✨ Who’s with me in this feline adventure? #CatLadyGoals #30AndThriving” \\n\\nThis revised version is concise, uses emojis effectively, fosters engagement, and keeps a friendly, relatable vibe. Happy tweeting! 🐾\", additional_kwargs={}, response_metadata={}, id='503da082-b39d-469d-827b-8448f3c070c0'), AIMessage(content=\"🎉 Can’t believe I’ll be 30 soon! Ready to settle into my cozy house, adopt 20 furry friends, and finally embrace my dream of becoming a crazy cat lady! 🐱✨ Who's ready to join me on this feline adventure? #CatLadyGoals #30AndThriving \", additional_kwargs={'refusal': None}, response_metadata={'token_usage': {'completion_tokens': 63, 'prompt_tokens': 565, 'total_tokens': 628, 'completion_tokens_details': {'accepted_prediction_tokens': 0, 'audio_tokens': 0, 'reasoning_tokens': 0, 'rejected_prediction_tokens': 0}, 'prompt_tokens_details': {'audio_tokens': 0, 'cached_tokens': 0}}, 'model_name': 'gpt-4o-mini-2024-07-18', 'system_fingerprint': 'fp_dbaca60df0', 'id': 'chatcmpl-BYa0PHeiViU2IwVgP1L2ZHmRqbxDl', 'service_tier': 'default', 'finish_reason': 'stop', 'logprobs': None}, id='run--d00e5394-3f6d-4489-9521-9c3bb9dfdcc3-0', usage_metadata={'input_tokens': 565, 'output_tokens': 63, 'total_tokens': 628, 'input_token_details': {'audio': 0, 'cache_read': 0}, 'output_token_details': {'audio': 0, 'reasoning': 0}}), HumanMessage(content=\"🎉 Can’t believe I’ll be 30 soon! Ready to settle into my cozy house, adopt 20 furry friends, and finally embrace my dream of becoming a crazy cat lady! 🐱✨ Who's ready to join me on this feline adventure? #CatLadyGoals #30AndThriving \\n\\n### Critique:\\n\\n1. **Length**: This revised tweet is concise while still expressing your excitement. It’s within the ideal character limit, keeping it punchy and engaging.\\n\\n2. **Virality**: By including a call to action (“Who’s ready to join me on this feline adventure?”), you're encouraging interaction, which can help increase engagement and shares.\\n\\n3. **Style**: The friendly and upbeat tone resonates well with cat lovers. The use of emojis is balanced and enhances the visual appeal of the tweet without overwhelming it.\\n\\n4. **Structure**: The flow of the tweet effectively moves from your age, to your future dreams, and then gives a personal touch with the interactive question, creating a nice buildup.\\n\\n### Additional Recommendations:\\n\\n1. **Hashtags**: The selections are spot-on for increasing visibility. You might also want to consider adding a couple more hashtags specific to your local area or trending ones related to pets for even more impact.\\n\\n2. **Timing**: Tweeting during peak engagement times, like early mornings or evenings, can also help boost visibility.\\n\\n3. **Follow-Up**: Consider posting follow-up tweets or threads sharing your journey towards achieving your dream, such as house hunting or adopting cats. This gives your audience something to look forward to and keeps them engaged over time.\\n\\nOverall, this revised version captures the excitement of your goal while inviting your audience to share in your journey. Happy tweeting! 🐾\", additional_kwargs={}, response_metadata={}, id='f1d6251e-7f21-446c-87f8-11fb4c60f915'), AIMessage(content=\"🎉 Can’t believe I’ll be 30 soon! Ready to settle into my cozy house, adopt 20 furry friends, and finally embrace my dream of becoming a crazy cat lady! 🐱✨ Who's ready to join me on this feline adventure? #CatLadyGoals #30AndThriving #FelineFun #PetLife \\n\\nThanks for the feedback! I'll make sure to keep those recommendations in mind for future tweets. Happy tweeting! 🐾\", additional_kwargs={'refusal': None}, response_metadata={'token_usage': {'completion_tokens': 94, 'prompt_tokens': 991, 'total_tokens': 1085, 'completion_tokens_details': {'accepted_prediction_tokens': 0, 'audio_tokens': 0, 'reasoning_tokens': 0, 'rejected_prediction_tokens': 0}, 'prompt_tokens_details': {'audio_tokens': 0, 'cached_tokens': 0}}, 'model_name': 'gpt-4o-mini-2024-07-18', 'system_fingerprint': 'fp_dbaca60df0', 'id': 'chatcmpl-BYa0YIvBr3UBKOIwgHMI6tw0n8uTF', 'service_tier': 'default', 'finish_reason': 'stop', 'logprobs': None}, id='run--6f0fcb78-f61f-42bb-a44c-988178560962-0', usage_metadata={'input_tokens': 991, 'output_tokens': 94, 'total_tokens': 1085, 'input_token_details': {'audio': 0, 'cache_read': 0}, 'output_token_details': {'audio': 0, 'reasoning': 0}}), HumanMessage(content=\"### Final Critique on Tweeter's Revised Tweet:\\n\\n1. **Length**: Your tweet remains succinct and clear, sticking to a comfortable character limit. This aids in readability and makes it more likely to be shared.\\n\\n2. **Virality**: The call to action (“Who’s ready to join me on this feline adventure?”) is excellent for engagement. It invites replies and shares, which can drive virality.\\n\\n3. **Style**: You've maintained a lighthearted and relatable tone, perfect for appealing to fellow cat lovers. The balance of emojis adds an extra touch without overpowering the text, enhancing its charm.\\n\\n4. **Structure**: The flow is well-organized—starting with an exciting countdown to your birthday, casting a vision of your future life, and ending with a personal invitation for engagement. This structure helps maintain the reader's interest.\\n\\n### Additional Recommendations:\\n\\n1. **Enhanced Hashtags**: You’ve included solid hashtags, but consider adding a few trendy or seasonal tags if applicable, like #HappyCats or #CatsofTwitter, to capitalize on broader conversations.\\n\\n2. **Images or Gifs**: Whenever possible, consider pairing your tweet with a cute cat photo or gif. Visual content can significantly increase engagement and shares.\\n\\n3. **Engagement Boosting**: After posting, engage with replies or retweets promptly. This freshness can help the tweet stay relevant longer on timelines.\\n\\n4. **Thread Opportunities**: If you want to build on this tweet, think about a future thread where you share updates on your journey—like the steps you took to adopt your cats or stories about each one. Threads tend to keep followers engaged over time!\\n\\n### FINAL REVISED TWEET EXAMPLE:\\n\\n“🎉 Can’t believe I’ll be 30 soon! Ready to settle into my cozy house, adopt 20 furry friends, and finally embrace my dream of becoming a crazy cat lady! 🐱✨ Who's ready to join me on this feline adventure? #CatLadyGoals #30AndThriving #HappyCats”\\n\\nGreat job on your revised tweet! Keep these tips in mind to continue elevating your Twitter game. Happy tweeting! 🐾\", additional_kwargs={}, response_metadata={}, id='113d6c4f-38b3-41fa-b706-18906969073c'), AIMessage(content=\"“🎉 Can’t believe I’ll be 30 soon! Ready to settle into my cozy house, adopt 20 furry friends, and finally embrace my dream of becoming a crazy cat lady! 🐱✨ Who's ready to join me on this feline adventure? #CatLadyGoals #30AndThriving #HappyCats”\\n\\nThanks for the insightful critique! I appreciate the suggestions and will definitely keep them in mind for future tweets. Let’s keep the cat love going! 🐾\", additional_kwargs={'refusal': None}, response_metadata={'token_usage': {'completion_tokens': 99, 'prompt_tokens': 1534, 'total_tokens': 1633, 'completion_tokens_details': {'accepted_prediction_tokens': 0, 'audio_tokens': 0, 'reasoning_tokens': 0, 'rejected_prediction_tokens': 0}, 'prompt_tokens_details': {'audio_tokens': 0, 'cached_tokens': 0}}, 'model_name': 'gpt-4o-mini-2024-07-18', 'system_fingerprint': 'fp_dbaca60df0', 'id': 'chatcmpl-BYa0hsbA5Ren0gpVsUljpb5fcQZwK', 'service_tier': 'default', 'finish_reason': 'stop', 'logprobs': None}, id='run--8f1f615f-e953-4a4c-b766-00334e9c66a0-0', usage_metadata={'input_tokens': 1534, 'output_tokens': 99, 'total_tokens': 1633, 'input_token_details': {'audio': 0, 'cache_read': 0}, 'output_token_details': {'audio': 0, 'reasoning': 0}})]\n"
     ]
    }
   ],
   "source": [
    "inputs = HumanMessage(\n",
    "        content=\"\"\"\n",
    "            Make this tweet better:\n",
    "             literally cannot wait til I hit 30, get a lil house, adopt 20 cats, & finally fulfill my lifelong dream of becoming a crazy cat lady.\n",
    "        \"\"\"\n",
    "    )\n",
    "response = graph.invoke(inputs)\n",
    "print(response)"
   ]
  },
  {
   "cell_type": "code",
   "execution_count": null,
   "metadata": {},
   "outputs": [],
   "source": []
  }
 ],
 "metadata": {
  "kernelspec": {
   "display_name": "langgraph-course (3.11.12)",
   "language": "python",
   "name": "python3"
  },
  "language_info": {
   "codemirror_mode": {
    "name": "ipython",
    "version": 3
   },
   "file_extension": ".py",
   "mimetype": "text/x-python",
   "name": "python",
   "nbconvert_exporter": "python",
   "pygments_lexer": "ipython3",
   "version": "3.11.12"
  }
 },
 "nbformat": 4,
 "nbformat_minor": 5
}
